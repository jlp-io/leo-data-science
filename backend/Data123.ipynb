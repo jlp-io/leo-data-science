{
 "cells": [
  {
   "cell_type": "code",
   "execution_count": 15,
   "metadata": {},
   "outputs": [
    {
     "name": "stdout",
     "output_type": "stream",
     "text": [
      "{'LowerQuartile': lowerAnnEarn    34100.0\n",
      "dtype: float64, 'Median': medianAnnEarn    43000.0\n",
      "dtype: float64, 'UpperQuartile': upperAnnEarn    73500.0\n",
      "dtype: float64}\n"
     ]
    },
    {
     "name": "stderr",
     "output_type": "stream",
     "text": [
      "/Users/adamhalas/anaconda3/lib/python3.7/site-packages/ipykernel_launcher.py:18: UserWarning: Boolean Series key will be reindexed to match DataFrame index.\n"
     ]
    }
   ],
   "source": [
    "import pandas as pd\n",
    "from pandas import ExcelWriter\n",
    "from pandas import ExcelFile\n",
    "import numpy as np\n",
    "\n",
    "# importing data -> pull from website does work\n",
    "data = pd.read_csv('https://assets.publishing.service.gov.uk/government/uploads/system/uploads/attachment_data/file/619435/SFR18_2017_Institution_subject_data.csv', low_memory=False)\n",
    "df = pd.DataFrame(data, columns = ['providerName','subject','yearsAfterGraduation','lowerAnnEarn','medianAnnEarn','upperAnnEarn'])\n",
    "\n",
    "#INPUT VARIABLES = case sensetive!\n",
    "Institution_Name =\"University of Oxford\"\n",
    "Degree =\"Computer science\"\n",
    "\n",
    "#restricting to specific subject\n",
    "SubjectConstraint = df[df['subject']\n",
    "\n",
    "#restricting to specific university\n",
    "UniConstraint = SubjectConstraint[df['providerName'].str.contains(Institution_Name)]\n",
    "\n",
    "#LOWER QUARTILE AVERAGE WAGE BETWEEN GRADUATES WITH 0-5 YEARS EXPERIENCE\n",
    "QuartileLow = UniConstraint['lowerAnnEarn']\n",
    "QuartileLow = pd.DataFrame(QuartileLow)\n",
    "QuartileLow = QuartileLow[QuartileLow.lowerAnnEarn != 'x'].astype(int)\n",
    "QuartileLowAvg = np.mean(QuartileLow)\n",
    "\n",
    "#MEDIAN WAGE BETWEEN GRADUATES WITH 0-5 YEARS EXPERIENCE\n",
    "QuartileMed = UniConstraint['medianAnnEarn']\n",
    "QuartileMed = pd.DataFrame(QuartileMed)\n",
    "QuartileMed = QuartileMed[QuartileMed.medianAnnEarn != 'x'].astype(int)\n",
    "QuartileMedAvg = np.mean(QuartileMed)\n",
    "\n",
    "#UPPER QUARTILE WAGE BETWEEN GRADUATES WITH 0-5 YEARS EXPERIENCE\n",
    "QuartileUp = UniConstraint['upperAnnEarn']\n",
    "QuartileUp = pd.DataFrame(QuartileUp)\n",
    "QuartileUp = QuartileUp[QuartileUp.upperAnnEarn != 'x'].astype(int)\n",
    "QuartileUpAvg = np.mean(QuartileUp)\n",
    "\n",
    "#dictionary\n",
    "earningsDictionary = dict(LowerQuartile =QuartileLowAvg,Median=QuartileMedAvg,UpperQuartile=QuartileUpAvg)\n",
    "print(earningsDictionary)"
   ]
  },
  {
   "cell_type": "code",
   "execution_count": null,
   "metadata": {},
   "outputs": [],
   "source": []
  },
  {
   "cell_type": "code",
   "execution_count": null,
   "metadata": {},
   "outputs": [],
   "source": []
  },
  {
   "cell_type": "code",
   "execution_count": null,
   "metadata": {},
   "outputs": [],
   "source": []
  },
  {
   "cell_type": "code",
   "execution_count": null,
   "metadata": {},
   "outputs": [],
   "source": []
  }
 ],
 "metadata": {
  "kernelspec": {
   "display_name": "Python 3",
   "language": "python",
   "name": "python3"
  },
  "language_info": {
   "codemirror_mode": {
    "name": "ipython",
    "version": 3
   },
   "file_extension": ".py",
   "mimetype": "text/x-python",
   "name": "python",
   "nbconvert_exporter": "python",
   "pygments_lexer": "ipython3",
   "version": "3.7.0"
  }
 },
 "nbformat": 4,
 "nbformat_minor": 2
}
